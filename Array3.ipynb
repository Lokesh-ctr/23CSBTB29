{
  "nbformat": 4,
  "nbformat_minor": 0,
  "metadata": {
    "colab": {
      "provenance": [],
      "authorship_tag": "ABX9TyNOxmerQ5u0mvGalch138IB",
      "include_colab_link": true
    },
    "kernelspec": {
      "name": "python3",
      "display_name": "Python 3"
    },
    "language_info": {
      "name": "python"
    }
  },
  "cells": [
    {
      "cell_type": "markdown",
      "metadata": {
        "id": "view-in-github",
        "colab_type": "text"
      },
      "source": [
        "<a href=\"https://colab.research.google.com/github/Lokesh-ctr/23CSBTB29/blob/main/Array3.ipynb\" target=\"_parent\"><img src=\"https://colab.research.google.com/assets/colab-badge.svg\" alt=\"Open In Colab\"/></a>"
      ]
    },
    {
      "cell_type": "code",
      "execution_count": 1,
      "metadata": {
        "colab": {
          "base_uri": "https://localhost:8080/"
        },
        "id": "OxiC82NHcHp-",
        "outputId": "ed04000f-a1db-45f1-aefd-6fe945e5248d"
      },
      "outputs": [
        {
          "output_type": "stream",
          "name": "stdout",
          "text": [
            "Multiplication result: [ 5 12 21 32]\n",
            "Division result: [0.2        0.33333333 0.42857143 0.5       ]\n",
            "Power result : [ 1  4  9 16]\n"
          ]
        }
      ],
      "source": [
        "import numpy as np\n",
        "array1 = np.array([1, 2, 3, 4])\n",
        "array2 = np.array([5, 6, 7, 8])\n",
        "product = np.multiply(array1, array2)\n",
        "print(\"Multiplication result:\", product)\n",
        "quotient = np.divide(array1, array2)\n",
        "print(\"Division result:\", quotient)\n",
        "power = np.power(array1, 2)\n",
        "print(\"Power result :\", power)"
      ]
    },
    {
      "cell_type": "code",
      "source": [
        "import numpy as np\n",
        "array = np.array([0, np.pi/4, np.pi/2, np.pi])\n",
        "sin_values = np.sin(array)\n",
        "print(\"Sine values:\", sin_values)\n",
        "log_values = np.log(array[array > 0])\n",
        "print(\"Natural logarithm values:\", log_values)\n",
        "log2_values = np.log2(array[array > 0])\n",
        "print(\"Logarithm base 2 values:\", log2_values)\n",
        "exp_values = np.exp(array)\n",
        "print(\"Exponential values:\", exp_values)"
      ],
      "metadata": {
        "colab": {
          "base_uri": "https://localhost:8080/"
        },
        "id": "G0cVbW5ucroO",
        "outputId": "28e24ff1-c1b8-497b-f9d2-3361796a5d93"
      },
      "execution_count": 2,
      "outputs": [
        {
          "output_type": "stream",
          "name": "stdout",
          "text": [
            "Sine values: [0.00000000e+00 7.07106781e-01 1.00000000e+00 1.22464680e-16]\n",
            "Natural logarithm values: [-0.24156448  0.45158271  1.14472989]\n",
            "Logarithm base 2 values: [-0.34850387  0.65149613  1.65149613]\n",
            "Exponential values: [ 1.          2.19328005  4.81047738 23.14069263]\n"
          ]
        }
      ]
    },
    {
      "cell_type": "code",
      "source": [
        "import numpy as np\n",
        "array = np.array([0, np.pi/4, np.pi/2, np.pi])\n",
        "sin_values = np.sin(array)\n",
        "print(\"Type of sin_values:\", type(sin_values))\n",
        "log_values = np.log(array[array > 0])\n",
        "print(\"Type of log_values:\", type(log_values))\n",
        "log2_values = np.log2(array[array > 0])\n",
        "print(\"Type of log2_values:\", type(log2_values))\n",
        "exp_values = np.exp(array)\n",
        "print(\"Type of exp_values:\", type(exp_values))\n"
      ],
      "metadata": {
        "colab": {
          "base_uri": "https://localhost:8080/"
        },
        "id": "TEo6mIwbcz7Y",
        "outputId": "22ed764b-f88b-4c4b-dffd-5144f6aaf2c5"
      },
      "execution_count": 3,
      "outputs": [
        {
          "output_type": "stream",
          "name": "stdout",
          "text": [
            "Type of sin_values: <class 'numpy.ndarray'>\n",
            "Type of log_values: <class 'numpy.ndarray'>\n",
            "Type of log2_values: <class 'numpy.ndarray'>\n",
            "Type of exp_values: <class 'numpy.ndarray'>\n"
          ]
        }
      ]
    },
    {
      "cell_type": "code",
      "source": [
        "import numpy as np\n",
        "array1 = np.array([1, 2, 3, 4])\n",
        "array2 = np.array([5, 6, 7, 8])\n",
        "sum_array = array1 + array2\n",
        "print(f\"Addition of Two Arrays:\\n{array1} + {array2} = {sum_array}\")\n"
      ],
      "metadata": {
        "colab": {
          "base_uri": "https://localhost:8080/"
        },
        "id": "xtb00dfJc4xJ",
        "outputId": "8d409b55-b2a6-464b-a41f-de07a586ccbd"
      },
      "execution_count": 4,
      "outputs": [
        {
          "output_type": "stream",
          "name": "stdout",
          "text": [
            "Addition of Two Arrays:\n",
            "[1 2 3 4] + [5 6 7 8] = [ 6  8 10 12]\n"
          ]
        }
      ]
    }
  ]
}